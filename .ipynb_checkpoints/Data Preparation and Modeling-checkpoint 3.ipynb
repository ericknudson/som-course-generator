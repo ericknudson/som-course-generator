{
 "cells": [
  {
   "cell_type": "markdown",
   "metadata": {},
   "source": [
    "# Data Preparation\n",
    "\n",
    "Takes in a .txt of the course names, outputs unigram, bigram, and trigram probabilities"
   ]
  },
  {
   "cell_type": "code",
   "execution_count": 2,
   "metadata": {},
   "outputs": [
    {
     "ename": "FileNotFoundError",
     "evalue": "[Errno 2] No such file or directory: '/Users/ericknudson/Desktop/Data Science Projects/SOM Course Name Generator/coursenames16.txt'",
     "output_type": "error",
     "traceback": [
      "\u001b[0;31m---------------------------------------------------------------------------\u001b[0m",
      "\u001b[0;31mFileNotFoundError\u001b[0m                         Traceback (most recent call last)",
      "\u001b[0;32m/var/folders/gf/g4smztv90c5d0svmt0_gqvzm0000gn/T/ipykernel_58825/3194376387.py\u001b[0m in \u001b[0;36m<module>\u001b[0;34m\u001b[0m\n\u001b[1;32m      4\u001b[0m \u001b[0;34m\u001b[0m\u001b[0m\n\u001b[1;32m      5\u001b[0m \u001b[0mcourses\u001b[0m \u001b[0;34m=\u001b[0m \u001b[0;34m[\u001b[0m\u001b[0;34m]\u001b[0m\u001b[0;34m\u001b[0m\u001b[0;34m\u001b[0m\u001b[0m\n\u001b[0;32m----> 6\u001b[0;31m \u001b[0;32mwith\u001b[0m \u001b[0mopen\u001b[0m\u001b[0;34m(\u001b[0m\u001b[0;34m'/Users/ericknudson/Desktop/Data Science Projects/SOM Course Name Generator/coursenames16.txt'\u001b[0m\u001b[0;34m,\u001b[0m \u001b[0mencoding\u001b[0m\u001b[0;34m=\u001b[0m\u001b[0;34m'utf-16'\u001b[0m\u001b[0;34m)\u001b[0m \u001b[0;32mas\u001b[0m \u001b[0mfp\u001b[0m\u001b[0;34m:\u001b[0m\u001b[0;34m\u001b[0m\u001b[0;34m\u001b[0m\u001b[0m\n\u001b[0m\u001b[1;32m      7\u001b[0m     \u001b[0mcourses\u001b[0m \u001b[0;34m=\u001b[0m \u001b[0mfp\u001b[0m\u001b[0;34m.\u001b[0m\u001b[0mreadlines\u001b[0m\u001b[0;34m(\u001b[0m\u001b[0;34m)\u001b[0m\u001b[0;34m\u001b[0m\u001b[0;34m\u001b[0m\u001b[0m\n\u001b[1;32m      8\u001b[0m \u001b[0mcourses\u001b[0m \u001b[0;34m=\u001b[0m \u001b[0;34m[\u001b[0m\u001b[0mx\u001b[0m\u001b[0;34m.\u001b[0m\u001b[0mstrip\u001b[0m\u001b[0;34m(\u001b[0m\u001b[0;34m'\\\"'\u001b[0m\u001b[0;34m)\u001b[0m \u001b[0;32mfor\u001b[0m \u001b[0mx\u001b[0m \u001b[0;32min\u001b[0m \u001b[0mcourses\u001b[0m\u001b[0;34m]\u001b[0m\u001b[0;34m\u001b[0m\u001b[0;34m\u001b[0m\u001b[0m\n",
      "\u001b[0;31mFileNotFoundError\u001b[0m: [Errno 2] No such file or directory: '/Users/ericknudson/Desktop/Data Science Projects/SOM Course Name Generator/coursenames16.txt'"
     ]
    }
   ],
   "source": [
    "import re\n",
    "import numpy as np\n",
    "import nltk\n",
    "\n",
    "courses = []\n",
    "with open('/Users/ericknudson/Desktop/Data Science Projects/SOM Course Name Generator/coursenames16.txt', encoding='utf-16') as fp:\n",
    "    courses = fp.readlines()\n",
    "courses = [x.strip('\\\"') for x in courses] \n",
    "mgt = re.compile(\"MGT*\")\n",
    "mgtcourses = []\n",
    "for course in courses:\n",
    "    if mgt.match(course):\n",
    "        mgtcourses.append(course)"
   ]
  },
  {
   "cell_type": "code",
   "execution_count": 5,
   "metadata": {},
   "outputs": [],
   "source": [
    "mgtcourses = [x.split() for x in mgtcourses]\n",
    "nums = []\n",
    "for i, course in enumerate(mgtcourses):\n",
    "    nums.append(course[1])\n",
    "    mgtcourses[i] = course[2:]\n",
    "nums.remove(\"Successful\")"
   ]
  },
  {
   "cell_type": "code",
   "execution_count": 6,
   "metadata": {},
   "outputs": [],
   "source": [
    "mgtcourses = [\" \".join(x) for x in mgtcourses]\n",
    "uniquecourses = set(mgtcourses)\n",
    "uniquecourses = list(uniquecourses)\n",
    "uniquecourses.remove(\"(01) MGT 857: Digital Strategy\")\n",
    "uniquecourses.append(\"Digital Strategy\")\n",
    "uniquecourses.remove(\"MGT 697: Capitalism and its Critics\")\n",
    "uniquecourses.append(\"Capitalism and its Critics\")\n",
    "mgt = re.compile(\"GNAM*\")\n",
    "for i, course in enumerate(uniquecourses):\n",
    "    if mgt.match(course):\n",
    "#        print(course)\n",
    "        course = course.split(\":\")\n",
    "        course = course[1].strip('\\\"')\n",
    "        uniquecourses[i] = course\n",
    "uniquecourses = [x.strip(\" \") for x in uniquecourses]"
   ]
  },
  {
   "cell_type": "code",
   "execution_count": 7,
   "metadata": {},
   "outputs": [],
   "source": [
    "hbscourses = []\n",
    "with open('/Users/ericknudson/Desktop/Data Science Projects/SOM Course Name Generator/HBScourses.txt') as fp:\n",
    "    hbscourses = fp.readlines()\n",
    "hbscourses = set(hbscourses)\n",
    "hbscourses = list(hbscourses)"
   ]
  },
  {
   "cell_type": "code",
   "execution_count": 8,
   "metadata": {},
   "outputs": [],
   "source": [
    "courselist = hbscourses + uniquecourses\n",
    "for i, course in enumerate(courselist):\n",
    "    course = course.replace(u'\\xa0', u' ')\n",
    "    course = course.replace(u'Application Only', u'')\n",
    "    course = course.replace(u'America’s', u'America\\'s')\n",
    "    course = re.sub(r' and ', ' & ', course)\n",
    "    courselist[i] = course"
   ]
  },
  {
   "cell_type": "code",
   "execution_count": 9,
   "metadata": {},
   "outputs": [],
   "source": [
    "tokenizedcourses = [x.title() for x in courselist]\n",
    "tokenizedcourses = [re.findall(r\"[\\w'-]+|[,!?:;&]\", x) for x in tokenizedcourses]"
   ]
  },
  {
   "cell_type": "code",
   "execution_count": 11,
   "metadata": {},
   "outputs": [],
   "source": [
    "import csv\n",
    "w = csv.writer(open(\"tokenizedcourses.csv\",\"w\"))\n",
    "for i in tokenizedcourses:\n",
    "    w.writerow(i)"
   ]
  },
  {
   "cell_type": "code",
   "execution_count": 12,
   "metadata": {},
   "outputs": [],
   "source": [
    "tokenizedcourses2 = []\n",
    "with open('tokenizedcourses.csv') as csv_file:\n",
    "    csv_reader = csv.reader(x.replace('\\0', '') for x in csv_file)\n",
    "    for row in csv_reader:\n",
    "        tokenizedcourses2.append(row)"
   ]
  },
  {
   "cell_type": "code",
   "execution_count": 1,
   "metadata": {},
   "outputs": [
    {
     "ename": "NameError",
     "evalue": "name 'courselist' is not defined",
     "output_type": "error",
     "traceback": [
      "\u001b[0;31m---------------------------------------------------------------------------\u001b[0m",
      "\u001b[0;31mNameError\u001b[0m                                 Traceback (most recent call last)",
      "\u001b[0;32m/var/folders/gf/g4smztv90c5d0svmt0_gqvzm0000gn/T/ipykernel_58825/1848924478.py\u001b[0m in \u001b[0;36m<module>\u001b[0;34m\u001b[0m\n\u001b[0;32m----> 1\u001b[0;31m \u001b[0mcourselist\u001b[0m\u001b[0;34m\u001b[0m\u001b[0;34m\u001b[0m\u001b[0m\n\u001b[0m",
      "\u001b[0;31mNameError\u001b[0m: name 'courselist' is not defined"
     ]
    }
   ],
   "source": [
    "courselist"
   ]
  },
  {
   "cell_type": "markdown",
   "metadata": {},
   "source": [
    "# Generate n-gram probability dictionaries"
   ]
  },
  {
   "cell_type": "code",
   "execution_count": 13,
   "metadata": {},
   "outputs": [],
   "source": [
    "import math\n",
    "from collections import Counter\n",
    "\n",
    "START_SYMBOL = '*'\n",
    "STOP_SYMBOL = 'STOP'\n",
    "\n",
    "def calc_probabilities(training_corpus):\n",
    "    unigram_counts = Counter()\n",
    "    bigram_counts = Counter()\n",
    "    trigram_counts = Counter()\n",
    "    for course in training_corpus:\n",
    "\n",
    "        #tokens = course.split()\n",
    "        course = course.title()\n",
    "        tokens = re.findall(r\"[\\w'-]+|[,!?:;&]\", course)\n",
    "\n",
    "        unigram_tokens = tokens + [STOP_SYMBOL]\n",
    "        unigram_counts.update(unigram_tokens)\n",
    "\n",
    "        bigram_tokens =  [START_SYMBOL] + tokens + [STOP_SYMBOL]\n",
    "        bigram_tuples = list(nltk.bigrams(bigram_tokens))\n",
    "        bigram_counts.update(bigram_tuples)\n",
    "\n",
    "        trigram_tokens =  [START_SYMBOL] + [START_SYMBOL] + tokens + [STOP_SYMBOL]\n",
    "        trigram_tuples = list(nltk.trigrams(trigram_tokens))\n",
    "        trigram_counts.update(trigram_tuples)\n",
    "\n",
    "    n_unigrams = sum(unigram_counts.values())\n",
    "    n_bigrams = sum(bigram_counts.values())\n",
    "    n_trigrams = sum(trigram_counts.values())\n",
    "\n",
    "    unigram_counts = dict(unigram_counts)\n",
    "    bigram_counts = dict(bigram_counts)\n",
    "    trigram_counts = dict(trigram_counts)\n",
    "\n",
    "    #unigram_probabilities = {k:math.log(x / n_unigrams,2) for (k,x) in unigram_counts.items()}\n",
    "    unigram_probabilities = {}\n",
    "    for (unigram, count) in unigram_counts.items():\n",
    "        #prob = math.log(count,2) - math.log(n_unigrams,2)\n",
    "        prob = count / n_unigrams\n",
    "        unigram_probabilities.update({unigram: prob})\n",
    "\n",
    "    bigram_probabilities = {}\n",
    "    for (bigram, count) in bigram_counts.items():\n",
    "        if bigram[0] == START_SYMBOL:\n",
    "            #prob = math.log(count,2) - math.log(unigram_counts[STOP_SYMBOL],2) #set denom to number of sentences\n",
    "            prob = count / unigram_counts[STOP_SYMBOL]\n",
    "            bigram_probabilities.update({bigram: prob})\n",
    "        else:\n",
    "            #prob = math.log(count,2) - math.log(unigram_counts[bigram[0]],2)\n",
    "            prob = count / n_bigrams\n",
    "            bigram_probabilities.update({bigram: prob})\n",
    "\n",
    "    trigram_probabilities = {}\n",
    "    for (trigram, count) in trigram_counts.items():\n",
    "        if trigram[0:2] == (START_SYMBOL,START_SYMBOL):\n",
    "            #prob = math.log(count,2) - math.log(unigram_counts[STOP_SYMBOL],2) #set denom to number of sentences\n",
    "            prob = prob = count / unigram_counts[STOP_SYMBOL]\n",
    "            trigram_probabilities.update({trigram: prob})\n",
    "        else:\n",
    "            #prob = math.log(count,2) - math.log(bigram_counts[trigram[0:2]],2)\n",
    "            prob = count / n_trigrams\n",
    "            trigram_probabilities.update({trigram: prob})\n",
    "    return unigram_probabilities, bigram_probabilities, trigram_probabilities"
   ]
  },
  {
   "cell_type": "code",
   "execution_count": 14,
   "metadata": {},
   "outputs": [],
   "source": [
    "unigram_probabilities, bigram_probabilities, trigram_probabilities = calc_probabilities(courselist)"
   ]
  },
  {
   "cell_type": "markdown",
   "metadata": {},
   "source": [
    "# N-Gram Name Generators"
   ]
  },
  {
   "cell_type": "markdown",
   "metadata": {},
   "source": [
    "### unigram model"
   ]
  },
  {
   "cell_type": "code",
   "execution_count": 246,
   "metadata": {},
   "outputs": [
    {
     "data": {
      "text/plain": [
       "'MGT 955-01 For New Evolution Fund Strategic'"
      ]
     },
     "execution_count": 246,
     "metadata": {},
     "output_type": "execute_result"
    }
   ],
   "source": [
    "from numpy.random import choice\n",
    "output = []\n",
    "next_token = \"\"\n",
    "while next_token != 'STOP':\n",
    "    next_token = choice(np.array(list(unigram_probabilities.keys())), 1, p = np.array(list(unigram_probabilities.values())))[0]\n",
    "    output.append(next_token)\n",
    "output = output[0:-1] #remove stop\n",
    "new_name = \" \".join(output)\n",
    "num = choice(nums,1)[0]\n",
    "new_name = \"MGT \" + num + \" \" + new_name \n",
    "new_name"
   ]
  },
  {
   "cell_type": "markdown",
   "metadata": {},
   "source": [
    "### bigram model"
   ]
  },
  {
   "cell_type": "code",
   "execution_count": 19,
   "metadata": {},
   "outputs": [],
   "source": [
    "from numpy.random import choice\n",
    "def gen_bigram_course(*args):\n",
    "    bigram_probabilities = args[0]\n",
    "    tokenized_courses = args[1]\n",
    "    output = [\"*\"]\n",
    "    next_token = \"\"\n",
    "    i = 1\n",
    "    while next_token != 'STOP':\n",
    "        current_history = output[i-1]\n",
    "        possible_bigrams = [(key, value) for key, value in bigram_probabilities.items() if key[0] == current_history]\n",
    "        bigrams = [x[0] for x in possible_bigrams]\n",
    "        bigrams = [x[1] for x in bigrams]\n",
    "        probs = [x[1] for x in possible_bigrams]\n",
    "        sprobs = np.sum(probs)\n",
    "        probs = np.divide(probs,sprobs)\n",
    "        if i == 1:\n",
    "            next_token = choice(np.array(bigrams), 1)[0]\n",
    "        else:\n",
    "            #next_token = choice(np.array(bigrams), 1)[0]\n",
    "            next_token = choice(np.array(bigrams), 1, p = np.array(probs))[0]\n",
    "        #look back 2, choose bigram based on distribution of bigrams with those first two words in common\n",
    "        output.append(next_token)\n",
    "        i = i + 1\n",
    "    output = output[1:-1] #remove stop\n",
    "    if output in tokenized_courses:\n",
    "        print(\"dupe:\", output)\n",
    "        output = gen_bigram_course(bigram_probabilities, tokenized_courses)\n",
    "    return(output)\n",
    "        \n",
    "def put_course_name_together(output):\n",
    "    new_name = \" \".join(output)\n",
    "    new_name = new_name.replace(\" ,\",\",\")\n",
    "    new_name = new_name.replace(\" :\",\":\")\n",
    "    new_name = new_name.replace(\" ?\",\"?\")\n",
    "    num = choice(nums,1)[0]\n",
    "    new_name = \"MGT \" + num + \" \" + new_name \n",
    "    return(new_name)"
   ]
  },
  {
   "cell_type": "code",
   "execution_count": 24,
   "metadata": {
    "scrolled": true
   },
   "outputs": [
    {
     "name": "stdout",
     "output_type": "stream",
     "text": [
      "MGT 612-01 Building & Literature\n"
     ]
    }
   ],
   "source": [
    "output = gen_bigram_course(bigram_probabilities, tokenizedcourses)\n",
    "course = put_course_name_together(output)\n",
    "print(course)"
   ]
  },
  {
   "cell_type": "code",
   "execution_count": 26,
   "metadata": {},
   "outputs": [
    {
     "data": {
      "text/plain": [
       "['Business Analysis & Valuation Using Financial Statements\\n',\n",
       " 'Behavioral Economics: The Leader as Decision Architect\\n',\n",
       " 'Corporate Finance: Corporate Financial Operations\\n',\n",
       " 'Crafting Your Life: the Tactics & Practices of the First 10 Years Post MBA\\n',\n",
       " 'Creating Value Across Markets: Corporate Strategy\\n',\n",
       " 'Building & Sustaining a Successful Enterprise\\n',\n",
       " 'Arts & Cultural Entrepreneurship \\n',\n",
       " 'Projects in Investing \\n',\n",
       " 'Entrepreneurial Management\\n',\n",
       " 'Entrepreneurial Sales & Marketing \\n',\n",
       " 'Contemporary Developing Countries: Entrepreneurial Solutions to Intractable Problems \\n',\n",
       " 'Business at the Base of the Pyramid \\n',\n",
       " 'Projects in Business Management \\n',\n",
       " 'Corporate Governance & Boards of Directors \\n',\n",
       " 'Entrepreneurial Finance \\n',\n",
       " 'Becoming a General Manager \\n',\n",
       " 'Transforming Health Care Delivery\\n',\n",
       " 'Product Management 102 \\n',\n",
       " 'Becoming a General Manager\\n',\n",
       " 'Creating Value Through Corporate Restructuring\\n',\n",
       " 'Challenges & Opportunities in the Restaurant Industry\\n',\n",
       " 'Projects in Business Management ',\n",
       " 'Entrepreneurship & Global Capitalism \\n',\n",
       " 'Competitive Strategy & Social Impact: Creating Shared Value \\n',\n",
       " 'Corporate Misconduct\\n',\n",
       " 'Deals\\n',\n",
       " 'Accounting & Management\\n',\n",
       " 'Digital Innovation & Transformation\\n',\n",
       " 'Creating Brand Value\\n',\n",
       " 'Authentic Leader Development\\n',\n",
       " 'Doing Business in China\\n',\n",
       " 'Business, Government & the International Economy\\n',\n",
       " 'Creating the Modern Financial System\\n',\n",
       " 'Demystifying Family Businesses\\n',\n",
       " 'Creating Value in Business & Government \\n',\n",
       " 'Corporate Finance: Strategy & Finance\\n',\n",
       " 'E-Commerce\\n',\n",
       " 'Entrepreneurship through Acquisition  \\n',\n",
       " 'Entrepreneurial Failure\\n',\n",
       " 'Private Equity Projects & Ecosystems \\n',\n",
       " 'Competing Globally\\n',\n",
       " 'Product Management 101 \\n',\n",
       " 'CS50 for MBAs: Computer Science for Business Leaders \\n',\n",
       " 'Applied Business Analytics\\n',\n",
       " 'Innovating in Health Care\\n',\n",
       " 'CS50 for MBAs: Computer Science for Business Leaders\\n',\n",
       " 'Designing Innovative Businesses & the Regulatory Environment\\n',\n",
       " 'Lab to Market\\n',\n",
       " 'Topics in Macroeconomics',\n",
       " 'Endowment Management',\n",
       " 'Programming & Entrepreneurship',\n",
       " 'Innovation & Reform in the Delivery of Legal Services',\n",
       " 'International Experience: Balkans',\n",
       " 'Speculation & Hedging in Financial Markets',\n",
       " 'Customer Analytics',\n",
       " 'Intro to Responsible Business: Oil & Gas',\n",
       " 'Fixed Income',\n",
       " 'Sports Analytics',\n",
       " 'Intellectual Property',\n",
       " 'Financial Inclusion in International Development: The Evolution from Microcredit to Inclusive Finance',\n",
       " 'Introduction to Social Entrepreneurship',\n",
       " 'World Financial History',\n",
       " 'Nonprofit Organizations Clinic',\n",
       " 'Managing Strategic Networks',\n",
       " 'International Experience: Serbia & Croatia',\n",
       " 'International Experience: New Zealand',\n",
       " 'High Tech Entrepreneurship',\n",
       " 'Strategic Market Measurement',\n",
       " 'Sources & Uses of Power',\n",
       " 'Venture Capital & Private Equity Investments',\n",
       " 'Handling Disruption',\n",
       " 'Business Ethics',\n",
       " 'Macroprudential Policy',\n",
       " 'Game Theory & Market Design',\n",
       " 'Start-up Founder Studies',\n",
       " 'Entrepreneurial Finance',\n",
       " 'Advanced Financial Statement Analysis',\n",
       " 'Simulation Modeling',\n",
       " 'Interpersonal Dynamics',\n",
       " 'Nonmarket Strategy',\n",
       " 'Supply Chain Management',\n",
       " 'Innovation & Entrepreneurship in Public Health',\n",
       " 'Taxes, Business & Strategy\"',\n",
       " 'Healthcare Operations',\n",
       " 'Personal Leadership: Leading the Self Before Leading Others',\n",
       " 'Investing',\n",
       " 'Strategies for Economic Development',\n",
       " 'Financial Stability Regulation',\n",
       " 'Ethical Choices in Public Leadership',\n",
       " 'Intro to Responsible Business: Oil & Wine',\n",
       " 'Strategic Communication: Delivering Effective Presentations',\n",
       " 'GSE India 2015-16 (Fall2-Spring1)',\n",
       " 'International Experience: South Africa',\n",
       " 'Power & Politics in Organizations',\n",
       " 'Managing Sustainable Operations',\n",
       " 'Management of Software Development',\n",
       " 'Race & Gender in Corporate Law & Governance',\n",
       " 'Marketing & Sustainability',\n",
       " 'Energy Systems Analysis',\n",
       " 'Policy Modeling',\n",
       " 'Managing Education Reform',\n",
       " 'Decarbonizing the US Power Sector: Driving U.S. Climate Policy under the Clean Air Act',\n",
       " 'Inclusive Business Models',\n",
       " 'Deals',\n",
       " 'Metrics, Tools & Indicators in Corporate Responsibility\"',\n",
       " 'Real Estate Finance',\n",
       " 'Financial Distress: Restructuring Troubled Entities',\n",
       " 'Debates in Corporate Law, Governance, & Theory\"',\n",
       " 'Statistical Modeling',\n",
       " 'Mobile Banking Models for Developed & Emerging Markets',\n",
       " 'Managing Global Catastrophes',\n",
       " 'Networks & Health',\n",
       " 'International Experience: Indonesia',\n",
       " 'Practicum in Data Analysis Using Stata',\n",
       " 'Listening to the Customer',\n",
       " 'Management of Quality',\n",
       " 'Narratives in Health Media on the Social Internet',\n",
       " 'Design Practicum',\n",
       " 'FinTech',\n",
       " 'Decision Making with Data',\n",
       " 'Freakonomics',\n",
       " 'Strategic Marketing Leadership: The Role of a Chief Marketing Officer',\n",
       " 'Innovation in Government & Society',\n",
       " 'Central Banking',\n",
       " 'Negotiations',\n",
       " 'Introduction to Not-for-Profit Accounting',\n",
       " 'Game Theory',\n",
       " 'Private Capital & Impact Investing',\n",
       " 'International Experience: India',\n",
       " 'Law & Economics of Corporate Control',\n",
       " 'Investment in Social Change',\n",
       " 'Sports Marketing',\n",
       " 'Intro to Responsible Business: Wine & Agriculture',\n",
       " 'Economic Strategy for Doing Business in Developing Countries',\n",
       " 'Business & the Environment Solutions',\n",
       " 'Capital Markets',\n",
       " 'New Product Development',\n",
       " 'Political Strategies of Multinational Companies',\n",
       " 'Managing Social Enterprises',\n",
       " 'Transnational Corporations & Human Rights',\n",
       " 'International Real Estate',\n",
       " 'Accounting & Finance Boot Camp',\n",
       " 'Rethinking & Managing Talent in the Public Education Sector',\n",
       " 'Advanced Issues in Capital Markets: Role of Counsel for Issuers & Underwriters in an Initial Public Offering',\n",
       " 'Principles of Entrepreneurship',\n",
       " 'International Commercial Arbitration',\n",
       " 'The Global Corporation',\n",
       " \"America's Future Role in the Global Economy\",\n",
       " 'International Experience: Japan',\n",
       " 'Contemporary Principles for Successful Entrepreneurship',\n",
       " 'Financial Statement Analysis',\n",
       " 'The Design of Business | The Business of Design',\n",
       " 'Advanced Management of Software Development',\n",
       " 'Renewable Energy Project Finance',\n",
       " 'Financing Green Technologies',\n",
       " 'Security Analysis & Valuation: Portfolio Management',\n",
       " 'Global Social Entrepreneurship: Indonesia',\n",
       " 'Strategic Management of Nonprofit Organizations',\n",
       " 'The Leadership Lab',\n",
       " 'Pricing',\n",
       " 'Marketing Strategy',\n",
       " 'Negotiating & Drafting Business Reorganization Transactions in Chapter 11 Cases',\n",
       " 'Leading Non Market Strategy in African Business Environments',\n",
       " 'Global Social Entrepreneurship: India',\n",
       " 'International Entrepreneurship',\n",
       " 'Apps, Software, & Entrepreneurship\"',\n",
       " 'Behavioral Economics 2: Tests & Applications',\n",
       " 'Advanced Contracts',\n",
       " 'Problem Framing',\n",
       " 'Quantitative Investing & Program Trading',\n",
       " 'International Experience: Mexico',\n",
       " 'Design & Marketing of New Products',\n",
       " 'Healthcare Policy, Finance, & Economics\"',\n",
       " 'Corporate Innovation & Entrepreneurship',\n",
       " 'Cultural Entrepreneurship & Social Responsibility',\n",
       " 'Law for Managers',\n",
       " 'The Next China',\n",
       " 'Property',\n",
       " 'Current Issues in Corporations, Corporate Governance, & Bankruptcy\"',\n",
       " 'Scaling Up Practicum',\n",
       " 'Hedge Fund Strategies',\n",
       " 'Natural Capital',\n",
       " 'Financial Inclusion & Development',\n",
       " 'The Invention of Desire',\n",
       " 'Managing Healthcare Organizations',\n",
       " 'Health Care Strategy',\n",
       " 'Security Analysis & Valuation',\n",
       " 'Behavioral & Institutional Economics',\n",
       " 'Financial Instruments & Contracts',\n",
       " 'Strategy, Technology & War\"',\n",
       " 'Behavioral Finance',\n",
       " 'Big Data & Customer Analytics',\n",
       " 'Strategic Risk Management',\n",
       " 'Design Practicum: Cape Town',\n",
       " 'Leadership Lab',\n",
       " 'Leading Business & Society',\n",
       " 'Human Capital Strategy',\n",
       " 'Creativity & Innovation',\n",
       " 'Entrepreneurial Marketing',\n",
       " 'Strategies for Land Conservation',\n",
       " 'SNOC: GNAM Course: New Product Development',\n",
       " 'Start-up Founder Practicum',\n",
       " 'Urban Poverty & Economic Development',\n",
       " 'A History of Financial Market Fraud: A Forensic Approach',\n",
       " 'Corporate Finance',\n",
       " 'Applied Quantitative Finance',\n",
       " 'Entrepreneurship & New Ventures',\n",
       " 'Sustainability Finance',\n",
       " 'International Investments Law',\n",
       " 'Global Financial Crisis',\n",
       " 'Big Data',\n",
       " 'Strategy Making & Strategy Change',\n",
       " 'International Experience: China',\n",
       " 'Digital Strategy',\n",
       " 'Energy Technology Innovation',\n",
       " 'The Future of Global Finance',\n",
       " 'Portfolio Management in Practice',\n",
       " 'Business & Government after Communism',\n",
       " 'International Entrepreneurship',\n",
       " 'Financial Reporting',\n",
       " 'Readings on the Corporation as a Social Actor',\n",
       " 'Leading Small & Medium Enterprises',\n",
       " 'Competitive Strategy',\n",
       " 'Management Leadership & Literature',\n",
       " 'Diversity & the Corporation',\n",
       " 'Behavioral Economics: The Psychology & Behavior of Individuals, Organizations, & Markets\"',\n",
       " 'Global Social Entrepreneurship Brazil',\n",
       " 'Survey Design & Analytics',\n",
       " 'Monetary Policy',\n",
       " 'Cases in Commercial Real Estate',\n",
       " 'Successful Investing',\n",
       " 'International Management & Organizational Structures',\n",
       " 'Practicum In Data Analysis Using Stata',\n",
       " 'What Happens if We All Live Too Long? Public Policy & the Coming Retirement Crisis',\n",
       " 'Business Ethics (formerly Leading Business & Society)',\n",
       " 'Strategic Leadership Across Sectors',\n",
       " 'Advanced Issues in Capital Markets',\n",
       " 'Managing Marketing Programs',\n",
       " 'Customer Insights & Applications',\n",
       " 'Data Analysis & Causal Inference',\n",
       " 'Advanced Business Analytics with Spreadsheets',\n",
       " 'The Life Science Industry',\n",
       " 'Competition Economics & Policy',\n",
       " 'Corporate Environment Management',\n",
       " 'Private Equity: Leveraged Buyouts',\n",
       " 'Consumer Financial Decision Making',\n",
       " 'Advanced Competition, Economics & Policy\"',\n",
       " 'Consumer Behavior',\n",
       " 'Social Entrepreneurship & Systems Leadership',\n",
       " 'Luxury: From Mortal Sin to Market Sector',\n",
       " 'Entrepreneurship through Acquisition',\n",
       " 'Public Sector Economics',\n",
       " 'Power & Politics',\n",
       " 'Creating Healthcare & Life Science Ventures',\n",
       " 'Pricing Strategy',\n",
       " 'Business & Government after Communism',\n",
       " 'Operations Strategy',\n",
       " 'Evolution of Central Banking & Responses to Crises',\n",
       " 'Emerging Markets',\n",
       " 'Personal Finance',\n",
       " 'Global Social Entrepreneurship',\n",
       " 'Urban Resilience',\n",
       " 'Managing Strategic Technology Portfolios',\n",
       " 'Investment Management',\n",
       " '12 Design Ideas that Changed the World',\n",
       " 'Inclusive Economic Development Lab: Opportunity Zones in New Haven',\n",
       " 'Revenue Management',\n",
       " 'International Experience: Peru',\n",
       " 'Quantitative Corporate Finance',\n",
       " 'Real Estate Finance for Institutional Investors',\n",
       " 'Managerial Controls',\n",
       " 'Advanced Customer Analytics',\n",
       " 'Behavioral Strategies for Selling New Products in Emerging Markets',\n",
       " 'International Experience: Israel',\n",
       " 'International Experience: Serbia, Croatia, Bosnia\"',\n",
       " 'The Regulation of Financial Institutions & Activities after the Financial Crisis',\n",
       " 'Management Leadership & Humanities',\n",
       " 'Sustainable Innovation in Healthcare',\n",
       " 'Mastering Influence & Persuasion',\n",
       " 'Digital Strategy',\n",
       " 'Capitalism & its Critics']"
      ]
     },
     "execution_count": 26,
     "metadata": {},
     "output_type": "execute_result"
    }
   ],
   "source": [
    "courselist"
   ]
  },
  {
   "cell_type": "markdown",
   "metadata": {},
   "source": [
    "### trigram model"
   ]
  },
  {
   "cell_type": "code",
   "execution_count": 76,
   "metadata": {},
   "outputs": [],
   "source": [
    "def gen_trigram_course(*args):\n",
    "    trigram_probabilities = args[0]\n",
    "    tokenized_courses = args[1]\n",
    "    output = [\"*\", \"*\"]\n",
    "    next_token = \"\"\n",
    "    i = 2\n",
    "    while next_token != 'STOP':\n",
    "        current_history = tuple(output[i-2:i])\n",
    "        possible_trigrams = [(key, value) for key, value in trigram_probabilities.items() if key[0:2] == current_history]\n",
    "        trigrams = [x[0][2] for x in possible_trigrams]\n",
    "        probs = [x[1] for x in possible_trigrams]\n",
    "        sprobs = np.sum(probs)\n",
    "        probs = np.divide(probs,sprobs)\n",
    "        if i == 2:\n",
    "            next_token = choice(np.array(trigrams), 1)[0]\n",
    "        else:\n",
    "            #next_token = choice(np.array(trigrams), 1, p = np.array(probs))[0]\n",
    "            next_token = choice(np.array(trigrams), 1)[0]\n",
    "        output.append(next_token)\n",
    "        i = i + 1\n",
    "    output = output[2:-1] #remove stop\n",
    "    if output in tokenized_courses:\n",
    "        print(\"dupe:\", output)\n",
    "        output = gen_course(bigram_probabilities, tokenized_courses)\n",
    "    return(output)"
   ]
  },
  {
   "cell_type": "code",
   "execution_count": 304,
   "metadata": {},
   "outputs": [
    {
     "name": "stdout",
     "output_type": "stream",
     "text": [
      "dupe: ['Product', 'Management', '101']\n",
      "dupe: ['Investment', 'Management']\n",
      "dupe: ['Interpersonal', 'Dynamics']\n",
      "MGT 873-01 Inclusive Economic Development\n"
     ]
    }
   ],
   "source": [
    "output = gen_trigram_course(trigram_probabilities, tokenizedcourses)\n",
    "course = put_course_name_together(output)\n",
    "print(course)"
   ]
  },
  {
   "cell_type": "markdown",
   "metadata": {},
   "source": [
    "# Generate Databases for Web App\n",
    "\n",
    "bigrams and nums to files"
   ]
  },
  {
   "cell_type": "code",
   "execution_count": 213,
   "metadata": {},
   "outputs": [],
   "source": [
    "import csv\n",
    "\n",
    "w = csv.writer(open(\"bigram_probabilities.csv\",\"w\"))\n",
    "for (key, val) in bigram_probabilities.items():\n",
    "    w.writerow([key[0], key[1], val])\n",
    "w = csv.writer(open(\"nums.csv\",\"w\"))\n",
    "for i in nums:\n",
    "    w.writerow(i)"
   ]
  },
  {
   "cell_type": "code",
   "execution_count": 211,
   "metadata": {},
   "outputs": [],
   "source": [
    "bigram_probabilities[(\"&\",\"Society\")] = bigram_probabilities[(\"&\",\"Society\")] * 2"
   ]
  },
  {
   "cell_type": "code",
   "execution_count": 212,
   "metadata": {},
   "outputs": [
    {
     "data": {
      "text/plain": [
       "0.007782101167315175"
      ]
     },
     "execution_count": 212,
     "metadata": {},
     "output_type": "execute_result"
    }
   ],
   "source": [
    "bigram_probabilities[(\"&\",\"Society\")]"
   ]
  },
  {
   "cell_type": "code",
   "execution_count": null,
   "metadata": {},
   "outputs": [],
   "source": []
  }
 ],
 "metadata": {
  "kernelspec": {
   "display_name": "Python 3 (ipykernel)",
   "language": "python",
   "name": "python3"
  },
  "language_info": {
   "codemirror_mode": {
    "name": "ipython",
    "version": 3
   },
   "file_extension": ".py",
   "mimetype": "text/x-python",
   "name": "python",
   "nbconvert_exporter": "python",
   "pygments_lexer": "ipython3",
   "version": "3.8.8"
  }
 },
 "nbformat": 4,
 "nbformat_minor": 2
}
