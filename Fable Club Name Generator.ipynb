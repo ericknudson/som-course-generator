{
 "cells": [
  {
   "cell_type": "markdown",
   "id": "615994da",
   "metadata": {},
   "source": [
    "# Data Import & Cleaning"
   ]
  },
  {
   "cell_type": "code",
   "execution_count": 1,
   "id": "65e0799a",
   "metadata": {},
   "outputs": [],
   "source": [
    "import re\n",
    "import numpy as np\n",
    "import nltk\n",
    "\n",
    "clubs = []\n",
    "with open('/Users/ericknudson/Desktop/Fable club name generator/club titles.txt', encoding='utf-16') as fp:\n",
    "    clubs = fp.readlines()\n",
    "clubs = [x.strip('\\n').lower() for x in clubs] "
   ]
  },
  {
   "cell_type": "markdown",
   "id": "d9ac9ebf",
   "metadata": {},
   "source": [
    "# Generate n-gram probability dictionaries"
   ]
  },
  {
   "cell_type": "code",
   "execution_count": 2,
   "id": "52db3e50",
   "metadata": {},
   "outputs": [],
   "source": [
    "import math\n",
    "from collections import Counter\n",
    "import nltk\n",
    "\n",
    "START_SYMBOL = '*'\n",
    "STOP_SYMBOL = 'STOP'\n",
    "\n",
    "def calc_probabilities(training_corpus):\n",
    "    unigram_counts = Counter()\n",
    "    bigram_counts = Counter()\n",
    "    trigram_counts = Counter()\n",
    "    for club in training_corpus:\n",
    "\n",
    "        #tokens = club.split()\n",
    "        #club = club.title()\n",
    "        tokens = nltk.word_tokenize(club)\n",
    "\n",
    "        unigram_tokens = tokens + [STOP_SYMBOL]\n",
    "        unigram_counts.update(unigram_tokens)\n",
    "\n",
    "        bigram_tokens =  [START_SYMBOL] + tokens + [STOP_SYMBOL]\n",
    "        bigram_tuples = list(nltk.bigrams(bigram_tokens))\n",
    "        bigram_counts.update(bigram_tuples)\n",
    "\n",
    "        trigram_tokens =  [START_SYMBOL] + [START_SYMBOL] + tokens + [STOP_SYMBOL]\n",
    "        trigram_tuples = list(nltk.trigrams(trigram_tokens))\n",
    "        trigram_counts.update(trigram_tuples)\n",
    "\n",
    "    n_unigrams = sum(unigram_counts.values())\n",
    "    n_bigrams = sum(bigram_counts.values())\n",
    "    n_trigrams = sum(trigram_counts.values())\n",
    "\n",
    "    unigram_counts = dict(unigram_counts)\n",
    "    bigram_counts = dict(bigram_counts)\n",
    "    trigram_counts = dict(trigram_counts)\n",
    "\n",
    "    #unigram_probabilities = {k:math.log(x / n_unigrams,2) for (k,x) in unigram_counts.items()}\n",
    "    unigram_probabilities = {}\n",
    "    for (unigram, count) in unigram_counts.items():\n",
    "        #prob = math.log(count,2) - math.log(n_unigrams,2)\n",
    "        prob = count / n_unigrams\n",
    "        unigram_probabilities.update({unigram: prob})\n",
    "\n",
    "    bigram_probabilities = {}\n",
    "    for (bigram, count) in bigram_counts.items():\n",
    "        if bigram[0] == START_SYMBOL:\n",
    "            #prob = math.log(count,2) - math.log(unigram_counts[STOP_SYMBOL],2) #set denom to number of sentences\n",
    "            prob = count / unigram_counts[STOP_SYMBOL]\n",
    "            bigram_probabilities.update({bigram: prob})\n",
    "        else:\n",
    "            #prob = math.log(count,2) - math.log(unigram_counts[bigram[0]],2)\n",
    "            prob = count / n_bigrams\n",
    "            bigram_probabilities.update({bigram: prob})\n",
    "\n",
    "    trigram_probabilities = {}\n",
    "    for (trigram, count) in trigram_counts.items():\n",
    "        if trigram[0:2] == (START_SYMBOL,START_SYMBOL):\n",
    "            #prob = math.log(count,2) - math.log(unigram_counts[STOP_SYMBOL],2) #set denom to number of sentences\n",
    "            prob = prob = count / unigram_counts[STOP_SYMBOL]\n",
    "            trigram_probabilities.update({trigram: prob})\n",
    "        else:\n",
    "            #prob = math.log(count,2) - math.log(bigram_counts[trigram[0:2]],2)\n",
    "            prob = count / n_trigrams\n",
    "            trigram_probabilities.update({trigram: prob})\n",
    "    return unigram_probabilities, bigram_probabilities, trigram_probabilities"
   ]
  },
  {
   "cell_type": "code",
   "execution_count": 3,
   "id": "838984ce",
   "metadata": {},
   "outputs": [],
   "source": [
    "unigram_probabilities, bigram_probabilities, trigram_probabilities = calc_probabilities(clubs)"
   ]
  },
  {
   "cell_type": "markdown",
   "id": "9f7e1eb5",
   "metadata": {},
   "source": [
    "# N-Gram Name Generators"
   ]
  },
  {
   "cell_type": "markdown",
   "id": "3fb6b472",
   "metadata": {},
   "source": [
    "### unigram model"
   ]
  },
  {
   "cell_type": "code",
   "execution_count": 4,
   "id": "3a7b2819",
   "metadata": {},
   "outputs": [],
   "source": [
    "from numpy.random import choice\n",
    "\n",
    "def gen_club(*args):\n",
    "    output = []\n",
    "    while True:\n",
    "        first_token = choice(np.array(list(unigram_probabilities.keys())), 1, p = np.array(list(unigram_probabilities.values())))[0]\n",
    "        if first_token != 'STOP':\n",
    "            break\n",
    "    output.append(first_token)\n",
    "    next_token = \"\"\n",
    "    while next_token != 'STOP':\n",
    "        next_token = choice(np.array(list(unigram_probabilities.keys())), 1, p = np.array(list(unigram_probabilities.values())))[0]\n",
    "        output.append(next_token)\n",
    "    output = output[0:-1] #remove stop\n",
    "    new_club = \" \".join(output)\n",
    "    if new_club in clubs or new_club == \" \":\n",
    "        print(\"dupe:\", new_club)\n",
    "        new_club = gen_club(bigram_probabilities, clubs)\n",
    "    else:\n",
    "        print(new_club)"
   ]
  },
  {
   "cell_type": "code",
   "execution_count": 7,
   "id": "06e50481",
   "metadata": {},
   "outputs": [
    {
     "name": "stdout",
     "output_type": "stream",
     "text": [
      "review - honest readers\n"
     ]
    }
   ],
   "source": [
    "gen_club(unigram_probabilities, clubs)"
   ]
  },
  {
   "cell_type": "markdown",
   "id": "6a6ce76c",
   "metadata": {},
   "source": [
    "### bigram model"
   ]
  },
  {
   "cell_type": "code",
   "execution_count": 8,
   "id": "bcba72de",
   "metadata": {},
   "outputs": [],
   "source": [
    "def gen_bigram_club(*args):\n",
    "    bigram_probabilities = args[0]\n",
    "    clubs = args[1]\n",
    "    output = [\"*\"]\n",
    "    next_token = \"\"\n",
    "    i = 1\n",
    "    while next_token != 'STOP':\n",
    "        current_history = output[i-1]\n",
    "        possible_bigrams = [(key, value) for key, value in bigram_probabilities.items() if key[0] == current_history]\n",
    "        bigrams = [x[0] for x in possible_bigrams]\n",
    "        bigrams = [x[1] for x in bigrams]\n",
    "        probs = [x[1] for x in possible_bigrams]\n",
    "        sprobs = np.sum(probs)\n",
    "        probs = np.divide(probs,sprobs)\n",
    "        if i == 1:\n",
    "            next_token = choice(np.array(bigrams), 1)[0]\n",
    "        else:\n",
    "            #next_token = choice(np.array(bigrams), 1)[0]\n",
    "            next_token = choice(np.array(bigrams), 1, p = np.array(probs))[0]\n",
    "        #look back 2, choose bigram based on distribution of bigrams with those first words in common\n",
    "        output.append(next_token)\n",
    "        i = i + 1\n",
    "    output = output[1:-1] #remove stop\n",
    "    output = \" \".join(output)\n",
    "    if output in clubs:\n",
    "        print(\"[duplicate]\", output)\n",
    "        output = gen_bigram_club(bigram_probabilities, clubs)\n",
    "    else:\n",
    "        print(output)"
   ]
  },
  {
   "cell_type": "code",
   "execution_count": 11,
   "id": "4d0d9195",
   "metadata": {},
   "outputs": [
    {
     "name": "stdout",
     "output_type": "stream",
     "text": [
      "order\n"
     ]
    }
   ],
   "source": [
    "gen_bigram_club(bigram_probabilities, clubs)"
   ]
  },
  {
   "cell_type": "code",
   "execution_count": 12,
   "id": "1a6d2573",
   "metadata": {},
   "outputs": [],
   "source": [
    "def gen_trigram_club(*args):\n",
    "    trigram_probabilities = args[0]\n",
    "    tokenized_clubs = args[1]\n",
    "    output = [\"*\", \"*\"]\n",
    "    next_token = \"\"\n",
    "    i = 2\n",
    "    while next_token != 'STOP':\n",
    "        current_history = tuple(output[i-2:i])\n",
    "        possible_trigrams = [(key, value) for key, value in trigram_probabilities.items() if key[0:2] == current_history]\n",
    "        trigrams = [x[0][2] for x in possible_trigrams]\n",
    "        probs = [x[1] for x in possible_trigrams]\n",
    "        sprobs = np.sum(probs)\n",
    "        probs = np.divide(probs,sprobs)\n",
    "        if i == 2:\n",
    "            next_token = choice(np.array(trigrams), 1)[0]\n",
    "        else:\n",
    "            #next_token = choice(np.array(trigrams), 1, p = np.array(probs))[0]\n",
    "            next_token = choice(np.array(trigrams), 1)[0]\n",
    "        output.append(next_token)\n",
    "        i = i + 1\n",
    "    output = output[2:-1] #remove stop\n",
    "    if output in clubs:\n",
    "        print(\"dupe:\", output)\n",
    "        output = gen_club(trigram_probabilities, clubs)\n",
    "    new_name = \" \".join(output)\n",
    "    return(new_name)"
   ]
  },
  {
   "cell_type": "code",
   "execution_count": 18,
   "id": "8b9f9045",
   "metadata": {},
   "outputs": [
    {
     "name": "stdout",
     "output_type": "stream",
     "text": [
      "booksluts\n"
     ]
    }
   ],
   "source": [
    "name = gen_trigram_club(trigram_probabilities, clubs)\n",
    "print(name)"
   ]
  },
  {
   "cell_type": "markdown",
   "id": "1274fa0a",
   "metadata": {},
   "source": [
    "# Generate databases for web app"
   ]
  },
  {
   "cell_type": "code",
   "execution_count": 19,
   "id": "5afe70a5",
   "metadata": {},
   "outputs": [],
   "source": [
    "import csv\n",
    "\n",
    "w = csv.writer(open(\"bigram_probabilities.csv\",\"w\"))\n",
    "for (key, val) in bigram_probabilities.items():\n",
    "    w.writerow([key[0], key[1], val])"
   ]
  }
 ],
 "metadata": {
  "kernelspec": {
   "display_name": "Python 3 (ipykernel)",
   "language": "python",
   "name": "python3"
  },
  "language_info": {
   "codemirror_mode": {
    "name": "ipython",
    "version": 3
   },
   "file_extension": ".py",
   "mimetype": "text/x-python",
   "name": "python",
   "nbconvert_exporter": "python",
   "pygments_lexer": "ipython3",
   "version": "3.8.8"
  }
 },
 "nbformat": 4,
 "nbformat_minor": 5
}
